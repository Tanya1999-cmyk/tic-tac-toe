{
  "nbformat": 4,
  "nbformat_minor": 0,
  "metadata": {
    "colab": {
      "name": "tic-tac-toe.ipynb",
      "provenance": [],
      "collapsed_sections": [],
      "authorship_tag": "ABX9TyPtlmFfhuCVl8CQyxkSUtSb",
      "include_colab_link": true
    },
    "kernelspec": {
      "name": "python3",
      "display_name": "Python 3"
    }
  },
  "cells": [
    {
      "cell_type": "markdown",
      "metadata": {
        "id": "view-in-github",
        "colab_type": "text"
      },
      "source": [
        "<a href=\"https://colab.research.google.com/github/Tanya1999-cmyk/tic-tac-toe/blob/master/tic_tac_toe.ipynb\" target=\"_parent\"><img src=\"https://colab.research.google.com/assets/colab-badge.svg\" alt=\"Open In Colab\"/></a>"
      ]
    },
    {
      "cell_type": "code",
      "metadata": {
        "id": "O9FxjBeeLeho",
        "colab_type": "code",
        "colab": {}
      },
      "source": [
        "theBoard={'7':' ','8':' ','9':' ',\n",
        "          '4':' ','5':' ','6':' ',\n",
        "          '1':' ','2':' ','3':' '}"
      ],
      "execution_count": 1,
      "outputs": []
    },
    {
      "cell_type": "code",
      "metadata": {
        "id": "nJUkJeBgOWyw",
        "colab_type": "code",
        "colab": {}
      },
      "source": [
        "board_keys=list(theBoard.keys())"
      ],
      "execution_count": 2,
      "outputs": []
    },
    {
      "cell_type": "code",
      "metadata": {
        "id": "AgyW-74aO-ml",
        "colab_type": "code",
        "colab": {
          "base_uri": "https://localhost:8080/",
          "height": 34
        },
        "outputId": "25065292-6ffd-4b68-f45c-dbc343c6f126"
      },
      "source": [
        "board_keys"
      ],
      "execution_count": 3,
      "outputs": [
        {
          "output_type": "execute_result",
          "data": {
            "text/plain": [
              "['7', '8', '9', '4', '5', '6', '1', '2', '3']"
            ]
          },
          "metadata": {
            "tags": []
          },
          "execution_count": 3
        }
      ]
    },
    {
      "cell_type": "code",
      "metadata": {
        "id": "FNpS4pLWPi73",
        "colab_type": "code",
        "colab": {}
      },
      "source": [
        "def printBoard(board):\n",
        "  print(board['7']+'|' +board['8']+'|'+board['9'])\n",
        "  print('-+-+-')\n",
        "  print(board['4']+'|' +board['5']+'|'+board['6'])\n",
        "  print('-+-+-')\n",
        "  print(board['1']+'|' +board['2']+'|'+board['3'])"
      ],
      "execution_count": 4,
      "outputs": []
    },
    {
      "cell_type": "code",
      "metadata": {
        "id": "S_Cnm1jxQnvE",
        "colab_type": "code",
        "colab": {
          "base_uri": "https://localhost:8080/",
          "height": 101
        },
        "outputId": "8626cfdd-40fb-4a44-ea9d-2e6b1c8bc065"
      },
      "source": [
        "printBoard(theBoard)"
      ],
      "execution_count": 5,
      "outputs": [
        {
          "output_type": "stream",
          "text": [
            " | | \n",
            "-+-+-\n",
            " | | \n",
            "-+-+-\n",
            " | | \n"
          ],
          "name": "stdout"
        }
      ]
    },
    {
      "cell_type": "code",
      "metadata": {
        "id": "ZVKcUMQoSl9D",
        "colab_type": "code",
        "colab": {}
      },
      "source": [
        "def game():\n",
        "  for key in theBoard.keys():\n",
        "    theBoard[key] = \" \"\n",
        "\n",
        "  #player X and player O\n",
        "  turn='X'\n",
        "  count=0\n",
        "  while count<9:\n",
        "    printBoard(theBoard)\n",
        "    print(\"its your turn\", turn,\"enter your next move position\")\n",
        "    move=input()\n",
        "\n",
        "    if theBoard[move]==' ':\n",
        "      theBoard[move]=turn\n",
        "      count=count+1\n",
        "    else:\n",
        "      print('That place is already filled. move to empty position')\n",
        "      continue\n",
        "\n",
        "    if count>=4:\n",
        "      if theBoard['7']== theBoard['8']== theBoard['9'] !=' ':\n",
        "        printBoard(theBoard)\n",
        "        print(\"game over\",turn,\"has won\")\n",
        "        break\n",
        "\n",
        "      elif theBoard['4']== theBoard['5']== theBoard['6'] !=' ':\n",
        "        printBoard(theBoard)\n",
        "        print(\"game over\",turn,\"has won\")\n",
        "        break\n",
        "\n",
        "      elif theBoard['1']== theBoard['2']== theBoard['3'] !=' ':\n",
        "        printBoard(theBoard)\n",
        "        print(\"game over\",turn,\"has won\")\n",
        "        break\n",
        "\n",
        "      elif theBoard['1']== theBoard['4']== theBoard['7'] !=' ':\n",
        "        printBoard(theBoard)\n",
        "        print(\"game over\",turn,\"has won\")\n",
        "        break\n",
        "\n",
        "      elif theBoard['2']== theBoard['5']== theBoard['8'] !=' ':\n",
        "        printBoard(theBoard)\n",
        "        print(\"game over\",turn,\"has won\")\n",
        "        break\n",
        "\n",
        "      elif theBoard['3']== theBoard['6']== theBoard['9'] !=' ':\n",
        "        printBoard(theBoard)\n",
        "        print(\"game over\",turn,\"has won\")\n",
        "        break\n",
        "\n",
        "      elif theBoard['1']== theBoard['5']== theBoard['9'] !=' ':\n",
        "        printBoard(theBoard)\n",
        "        print(\"game over\",turn,\"has won\")\n",
        "        break\n",
        "\n",
        "      elif theBoard['3']== theBoard['5']== theBoard['7'] !=' ':\n",
        "        printBoard(theBoard)\n",
        "        print(\"game over\",turn,\"has won\")\n",
        "        break\n",
        "\n",
        "    if count==9:\n",
        "      print(\"game over. its a draw\")\n",
        "\n",
        "    if turn == 'X':\n",
        "      turn='O'\n",
        "\n",
        "    else:\n",
        "      turn='X'\n",
        "  \n",
        "  restart = input('Do you want to play again: Y/N: ')\n",
        "  if restart[0].upper() == 'Y':\n",
        "    game()\n",
        "  \n",
        "  \n"
      ],
      "execution_count": 11,
      "outputs": []
    },
    {
      "cell_type": "code",
      "metadata": {
        "id": "zDgjpFNEb4MR",
        "colab_type": "code",
        "colab": {
          "base_uri": "https://localhost:8080/",
          "height": 958
        },
        "outputId": "6b35ebac-a48a-4383-b5a4-de0a4d6565cf"
      },
      "source": [
        "game()"
      ],
      "execution_count": 12,
      "outputs": [
        {
          "output_type": "stream",
          "text": [
            " | | \n",
            "-+-+-\n",
            " | | \n",
            "-+-+-\n",
            " | | \n",
            "its your turn X enter your next move position\n",
            "5\n",
            " | | \n",
            "-+-+-\n",
            " |X| \n",
            "-+-+-\n",
            " | | \n",
            "its your turn O enter your next move position\n",
            "3\n",
            " | | \n",
            "-+-+-\n",
            " |X| \n",
            "-+-+-\n",
            " | |O\n",
            "its your turn X enter your next move position\n",
            "9\n",
            " | |X\n",
            "-+-+-\n",
            " |X| \n",
            "-+-+-\n",
            " | |O\n",
            "its your turn O enter your next move position\n",
            "1\n",
            " | |X\n",
            "-+-+-\n",
            " |X| \n",
            "-+-+-\n",
            "O| |O\n",
            "its your turn X enter your next move position\n",
            "2\n",
            " | |X\n",
            "-+-+-\n",
            " |X| \n",
            "-+-+-\n",
            "O|X|O\n",
            "its your turn O enter your next move position\n",
            "7\n",
            "O| |X\n",
            "-+-+-\n",
            " |X| \n",
            "-+-+-\n",
            "O|X|O\n",
            "its your turn X enter your next move position\n",
            "8\n",
            "O|X|X\n",
            "-+-+-\n",
            " |X| \n",
            "-+-+-\n",
            "O|X|O\n",
            "game over X has won\n",
            "Do you want to play again: Y/N: N\n"
          ],
          "name": "stdout"
        }
      ]
    }
  ]
}